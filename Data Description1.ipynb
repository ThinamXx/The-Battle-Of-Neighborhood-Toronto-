{
 "cells": [
  {
   "cell_type": "markdown",
   "metadata": {},
   "source": [
    "### Data Description"
   ]
  },
  {
   "cell_type": "markdown",
   "metadata": {},
   "source": [
    "A **Restaurant** is a business establishment that serves prepared meals and beverages on the premises in exchange of the payment.The food is prepared by the **Chef**.The term covers multiplicity of the places and a great diversity of the types  of cuisine, both local and foreign.The restaurants are sometimes the device reserved for serving the meals within the large entity.When we speak about collective restaurants as opposed to the kitchen site, they can also be associated with a catering or grocery business.The restaurants offers more or less comfort conditions and the restaurants is also called **Fast** because when the customer place the order they can get and eat in minutes or tens of minutes possibly standing."
   ]
  },
  {
   "cell_type": "markdown",
   "metadata": {},
   "source": [
    "While searching on the **Internet**, I found the **Toronto** has several Restaurants.Specific theme restaurants such as:**Greek Restaurants, Hasal Restaurants, Jewish Restaurants** and many more.There are 2 Restaurants in big Hotel like **Drake Hotel**.There are pizzaries like **Pizza Nova or Pizza Yolo**. 4 Bistros like **Bistro 990** and 5 Global Restaurants like **Big Smoke Burger or Fan's Restaurants**.6 Restoring bars such as **Rivoli**"
   ]
  },
  {
   "cell_type": "markdown",
   "metadata": {},
   "source": [
    "All this leads to a competitive market that requires distinguishing such as Which criteria to choose to optimize the income?Presence of the supplier nearby?The demography of **Toronto**, **Number of Competitors Nearby**.And the demography of the **Neighborhood**.The contribution of the people of **Toronto**.The list can continue....This analysis will allow an investor to be able to choose the optimal location for business and can use this analysis to move or open an extension for the business."
   ]
  },
  {
   "cell_type": "markdown",
   "metadata": {},
   "source": [
    "In this analysis, I will work out with the csv file of **Toronto Neighborhood**.I also used the **Four Square API** to know details about the **Neighborhood of Toronto** and it deals with **1.6 km** around the city."
   ]
  }
 ],
 "metadata": {
  "kernelspec": {
   "display_name": "Python 3",
   "language": "python",
   "name": "python3"
  },
  "language_info": {
   "codemirror_mode": {
    "name": "ipython",
    "version": 3
   },
   "file_extension": ".py",
   "mimetype": "text/x-python",
   "name": "python",
   "nbconvert_exporter": "python",
   "pygments_lexer": "ipython3",
   "version": "3.7.4"
  }
 },
 "nbformat": 4,
 "nbformat_minor": 2
}
