{
 "cells": [
  {
   "cell_type": "markdown",
   "metadata": {},
   "source": [
    "# The Battle of the Neighborhood (Week 1)"
   ]
  },
  {
   "cell_type": "markdown",
   "metadata": {},
   "source": [
    "### Introduction & Business Problems"
   ]
  },
  {
   "cell_type": "markdown",
   "metadata": {},
   "source": [
    "The city of **Toronto** is the most populated city in **Canada**.It is the capital of the province of **Ontario** and home for more than **2.7 million people** which makes it the fourth most populated city in **North America**.In the **20th century** the city experienced significant industrial development and subsequently became the **English Speaking Banking, Financial and Commercial heart of Canada**.It was named as the most important financial centres in the world and all the credit goes to the **Medical Research, Film Production, Technology and Computer Science, The Arts, Education** and many more."
   ]
  },
  {
   "cell_type": "markdown",
   "metadata": {},
   "source": [
    "With it's diverse cultural institutions, including **Museums and Art galleries, Festivals and Public evets** and many more **Toronto** becomes America's most visited city."
   ]
  },
  {
   "cell_type": "markdown",
   "metadata": {},
   "source": [
    "These tourists promote the **Tourism Industries** which generate a very competitive market.As it is a very developed city, it basically deals with business cases.That's why any new investment or company that wants to move to **Toronto** needs to use market based insights that will help them to understand the **Business Environment** and allowing them for a strategy to reduce the risk.And increase the profit return on investment."
   ]
  }
 ],
 "metadata": {
  "kernelspec": {
   "display_name": "Python 3",
   "language": "python",
   "name": "python3"
  },
  "language_info": {
   "codemirror_mode": {
    "name": "ipython",
    "version": 3
   },
   "file_extension": ".py",
   "mimetype": "text/x-python",
   "name": "python",
   "nbconvert_exporter": "python",
   "pygments_lexer": "ipython3",
   "version": "3.7.4"
  }
 },
 "nbformat": 4,
 "nbformat_minor": 2
}
